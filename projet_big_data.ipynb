{
  "nbformat": 4,
  "nbformat_minor": 0,
  "metadata": {
    "colab": {
      "name": "projet_big_data.ipynb",
      "provenance": [],
      "collapsed_sections": [
        "E5H74Dm_nHx5",
        "3YuneIZkZeez"
      ]
    },
    "kernelspec": {
      "name": "python3",
      "display_name": "Python 3"
    },
    "language_info": {
      "name": "python"
    }
  },
  "cells": [
    {
      "cell_type": "markdown",
      "metadata": {
        "id": "u-wJF7Gxv35n"
      },
      "source": [
        ""
      ]
    },
    {
      "cell_type": "markdown",
      "metadata": {
        "id": "E5H74Dm_nHx5"
      },
      "source": [
        "# **Partie 1 : Mise en place de l'environnement de travail**"
      ]
    },
    {
      "cell_type": "markdown",
      "metadata": {
        "id": "oMlWWEQ2YPfW"
      },
      "source": [
        "Dans cette partie nous allons faire le point sur la mise en place de l'environnement de travail en installant \"spark et ses différentes composantes\"."
      ]
    },
    {
      "cell_type": "code",
      "metadata": {
        "colab": {
          "base_uri": "https://localhost:8080/"
        },
        "id": "8bNy9fOzZHKj",
        "outputId": "05f9c89d-ede1-4765-a5ca-3c451de97ae8"
      },
      "source": [
        "!pip install pyspark"
      ],
      "execution_count": 1,
      "outputs": [
        {
          "output_type": "stream",
          "text": [
            "Requirement already satisfied: pyspark in /usr/local/lib/python3.7/dist-packages (3.1.2)\n",
            "Requirement already satisfied: py4j==0.10.9 in /usr/local/lib/python3.7/dist-packages (from pyspark) (0.10.9)\n"
          ],
          "name": "stdout"
        }
      ]
    },
    {
      "cell_type": "code",
      "metadata": {
        "colab": {
          "base_uri": "https://localhost:8080/"
        },
        "id": "Gy3rUMgfZz5f",
        "outputId": "4e76e4a1-aa55-4268-83be-1d3bdc461a41"
      },
      "source": [
        "!pip install scikit-learn"
      ],
      "execution_count": 2,
      "outputs": [
        {
          "output_type": "stream",
          "text": [
            "Requirement already satisfied: scikit-learn in /usr/local/lib/python3.7/dist-packages (0.22.2.post1)\n",
            "Requirement already satisfied: scipy>=0.17.0 in /usr/local/lib/python3.7/dist-packages (from scikit-learn) (1.4.1)\n",
            "Requirement already satisfied: numpy>=1.11.0 in /usr/local/lib/python3.7/dist-packages (from scikit-learn) (1.19.5)\n",
            "Requirement already satisfied: joblib>=0.11 in /usr/local/lib/python3.7/dist-packages (from scikit-learn) (1.0.1)\n"
          ],
          "name": "stdout"
        }
      ]
    },
    {
      "cell_type": "code",
      "metadata": {
        "id": "tZPKGCkoZz8-"
      },
      "source": [
        "import matplotlib.pyplot as plt\n",
        "import sklearn \n",
        "import numpy as np\n",
        "import seaborn as sns \n",
        "import pandas as pd\n",
        "import pyspark"
      ],
      "execution_count": 3,
      "outputs": []
    },
    {
      "cell_type": "code",
      "metadata": {
        "id": "uP-u4Y-6Z0A7"
      },
      "source": [
        "from pyspark import SparkConf, SparkContext\n",
        "from pyspark.sql import SparkSession, SQLContext"
      ],
      "execution_count": 4,
      "outputs": []
    },
    {
      "cell_type": "markdown",
      "metadata": {
        "id": "0q0X6-3tmE64"
      },
      "source": [
        "**Création de sparkContext**"
      ]
    },
    {
      "cell_type": "code",
      "metadata": {
        "id": "wigOlg3CmEma"
      },
      "source": [
        "spark = SparkSession.builder.master(\"local[2]\").appName(\"Clustering with k-means method\").getOrCreate()"
      ],
      "execution_count": 5,
      "outputs": []
    },
    {
      "cell_type": "code",
      "metadata": {
        "colab": {
          "base_uri": "https://localhost:8080/",
          "height": 216
        },
        "id": "t7L0jLAJZ0Fm",
        "outputId": "d18cd3c9-ea87-4952-e168-19e3d08da90b"
      },
      "source": [
        "spark"
      ],
      "execution_count": 6,
      "outputs": [
        {
          "output_type": "execute_result",
          "data": {
            "text/html": [
              "\n",
              "            <div>\n",
              "                <p><b>SparkSession - in-memory</b></p>\n",
              "                \n",
              "        <div>\n",
              "            <p><b>SparkContext</b></p>\n",
              "\n",
              "            <p><a href=\"http://a619e1e392b0:4040\">Spark UI</a></p>\n",
              "\n",
              "            <dl>\n",
              "              <dt>Version</dt>\n",
              "                <dd><code>v3.1.2</code></dd>\n",
              "              <dt>Master</dt>\n",
              "                <dd><code>local[2]</code></dd>\n",
              "              <dt>AppName</dt>\n",
              "                <dd><code>Clustering with k-means method</code></dd>\n",
              "            </dl>\n",
              "        </div>\n",
              "        \n",
              "            </div>\n",
              "        "
            ],
            "text/plain": [
              "<pyspark.sql.session.SparkSession at 0x7f58ff867950>"
            ]
          },
          "metadata": {
            "tags": []
          },
          "execution_count": 6
        }
      ]
    },
    {
      "cell_type": "code",
      "metadata": {
        "id": "9I9Rrb62mmzN",
        "colab": {
          "base_uri": "https://localhost:8080/",
          "height": 193
        },
        "outputId": "51160763-af5d-417a-f78b-e668584accf3"
      },
      "source": [
        "s_cont = spark.sparkContext\n",
        "s_cont"
      ],
      "execution_count": 7,
      "outputs": [
        {
          "output_type": "execute_result",
          "data": {
            "text/html": [
              "\n",
              "        <div>\n",
              "            <p><b>SparkContext</b></p>\n",
              "\n",
              "            <p><a href=\"http://a619e1e392b0:4040\">Spark UI</a></p>\n",
              "\n",
              "            <dl>\n",
              "              <dt>Version</dt>\n",
              "                <dd><code>v3.1.2</code></dd>\n",
              "              <dt>Master</dt>\n",
              "                <dd><code>local[2]</code></dd>\n",
              "              <dt>AppName</dt>\n",
              "                <dd><code>Clustering with k-means method</code></dd>\n",
              "            </dl>\n",
              "        </div>\n",
              "        "
            ],
            "text/plain": [
              "<SparkContext master=local[2] appName=Clustering with k-means method>"
            ]
          },
          "metadata": {
            "tags": []
          },
          "execution_count": 7
        }
      ]
    },
    {
      "cell_type": "markdown",
      "metadata": {
        "id": "lPYuTI9gnfd9"
      },
      "source": [
        "# **Partie 2 : Données**"
      ]
    },
    {
      "cell_type": "markdown",
      "metadata": {
        "id": "LGSnD7OUYxs4"
      },
      "source": [
        "passons à la génération des données \" 2 datasets de 3 différents types\"."
      ]
    },
    {
      "cell_type": "markdown",
      "metadata": {
        "id": "Vn-krhmoplz4"
      },
      "source": [
        "*Question 1 : génération des données*"
      ]
    },
    {
      "cell_type": "code",
      "metadata": {
        "id": "iQqTv-F4mm_F"
      },
      "source": [
        "from sklearn.datasets import make_blobs\n",
        "X, y = make_blobs(n_samples=1000, centers= 2, n_features=2, random_state=0)"
      ],
      "execution_count": 8,
      "outputs": []
    },
    {
      "cell_type": "code",
      "metadata": {
        "id": "5VQelmw-opjX"
      },
      "source": [
        "data = pd.DataFrame(data = X,columns=[\"var1\",\"var2\"])\n",
        "data[\"y\"]=y"
      ],
      "execution_count": 9,
      "outputs": []
    },
    {
      "cell_type": "code",
      "metadata": {
        "colab": {
          "base_uri": "https://localhost:8080/",
          "height": 204
        },
        "id": "JbWqp3UNpOuM",
        "outputId": "a21a405c-bede-4e0a-979e-228eabf7a69a"
      },
      "source": [
        "data.head()"
      ],
      "execution_count": 10,
      "outputs": [
        {
          "output_type": "execute_result",
          "data": {
            "text/html": [
              "<div>\n",
              "<style scoped>\n",
              "    .dataframe tbody tr th:only-of-type {\n",
              "        vertical-align: middle;\n",
              "    }\n",
              "\n",
              "    .dataframe tbody tr th {\n",
              "        vertical-align: top;\n",
              "    }\n",
              "\n",
              "    .dataframe thead th {\n",
              "        text-align: right;\n",
              "    }\n",
              "</style>\n",
              "<table border=\"1\" class=\"dataframe\">\n",
              "  <thead>\n",
              "    <tr style=\"text-align: right;\">\n",
              "      <th></th>\n",
              "      <th>var1</th>\n",
              "      <th>var2</th>\n",
              "      <th>y</th>\n",
              "    </tr>\n",
              "  </thead>\n",
              "  <tbody>\n",
              "    <tr>\n",
              "      <th>0</th>\n",
              "      <td>0.466618</td>\n",
              "      <td>3.865713</td>\n",
              "      <td>0</td>\n",
              "    </tr>\n",
              "    <tr>\n",
              "      <th>1</th>\n",
              "      <td>2.843828</td>\n",
              "      <td>3.326509</td>\n",
              "      <td>0</td>\n",
              "    </tr>\n",
              "    <tr>\n",
              "      <th>2</th>\n",
              "      <td>0.611215</td>\n",
              "      <td>2.512460</td>\n",
              "      <td>0</td>\n",
              "    </tr>\n",
              "    <tr>\n",
              "      <th>3</th>\n",
              "      <td>3.816534</td>\n",
              "      <td>1.651759</td>\n",
              "      <td>1</td>\n",
              "    </tr>\n",
              "    <tr>\n",
              "      <th>4</th>\n",
              "      <td>1.280972</td>\n",
              "      <td>0.628274</td>\n",
              "      <td>1</td>\n",
              "    </tr>\n",
              "  </tbody>\n",
              "</table>\n",
              "</div>"
            ],
            "text/plain": [
              "       var1      var2  y\n",
              "0  0.466618  3.865713  0\n",
              "1  2.843828  3.326509  0\n",
              "2  0.611215  2.512460  0\n",
              "3  3.816534  1.651759  1\n",
              "4  1.280972  0.628274  1"
            ]
          },
          "metadata": {
            "tags": []
          },
          "execution_count": 10
        }
      ]
    },
    {
      "cell_type": "markdown",
      "metadata": {
        "id": "m5RSp7JfrVAU"
      },
      "source": [
        "*génération du RDD*"
      ]
    },
    {
      "cell_type": "code",
      "metadata": {
        "id": "8tOO-STQopoo"
      },
      "source": [
        "data_rdd = s_cont.parallelize(zip(X[:,0],X[:,1],y))"
      ],
      "execution_count": 11,
      "outputs": []
    },
    {
      "cell_type": "code",
      "metadata": {
        "id": "IWed9XL9tDQz"
      },
      "source": [
        "from pyspark.sql import Row\n",
        "df_rdd = data_rdd.map(lambda c: Row(Var1=float(c[0]), Var2=float(c[1]), label=int(c[2])))"
      ],
      "execution_count": 12,
      "outputs": []
    },
    {
      "cell_type": "code",
      "metadata": {
        "id": "muI-MUJItDaI"
      },
      "source": [
        "df = df_rdd.toDF()"
      ],
      "execution_count": 13,
      "outputs": []
    },
    {
      "cell_type": "code",
      "metadata": {
        "colab": {
          "base_uri": "https://localhost:8080/"
        },
        "id": "8fTYjvCC2pen",
        "outputId": "ac8e23b6-c15c-4e52-f037-178f60ab8a56"
      },
      "source": [
        "df.show()"
      ],
      "execution_count": 14,
      "outputs": [
        {
          "output_type": "stream",
          "text": [
            "+--------------------+--------------------+-----+\n",
            "|                Var1|                Var2|label|\n",
            "+--------------------+--------------------+-----+\n",
            "| 0.46661789679484156|  3.8657130258372034|    0|\n",
            "|  2.8438280686964625|   3.326509447571979|    0|\n",
            "|  0.6112148620002373|   2.512459779407206|    0|\n",
            "|   3.816533648852741|  1.6517593235941797|    1|\n",
            "|  1.2809724409460734|  0.6282738814866966|    1|\n",
            "|  0.9885020621853124|  5.8730469419842946|    0|\n",
            "|  1.0509448092182645|-0.10052806829392724|    1|\n",
            "|  0.9146436764508477|   4.196482051157215|    0|\n",
            "|  0.8778175541210628|  3.6403090410862826|    0|\n",
            "|  0.9133661022290314| -0.4133067105032755|    1|\n",
            "|  0.8903393115748823|   4.498080265494162|    0|\n",
            "|  3.0943639618112706|  1.3767588840361653|    1|\n",
            "|  1.2824956384546757|  1.7797202593009476|    1|\n",
            "|   2.614566502823762|-0.16603193108761105|    1|\n",
            "| -0.9694330046174637|   3.391003833313098|    0|\n",
            "|-0.07228288652059756|   2.883769390269415|    0|\n",
            "|   4.506497240507954|  0.6864576763064169|    1|\n",
            "|  0.5070131985838355|  1.4296382989451282|    1|\n",
            "|  3.1725728369695423| 0.37876345551308477|    1|\n",
            "|  1.7287065437536702|  0.8894537776683228|    1|\n",
            "+--------------------+--------------------+-----+\n",
            "only showing top 20 rows\n",
            "\n"
          ],
          "name": "stdout"
        }
      ]
    },
    {
      "cell_type": "markdown",
      "metadata": {
        "id": "X9ibrbB2U5kH"
      },
      "source": [
        "*question D : Le nouveau parametrage* : dans cette étape nous allons changer les paramètres de la genération des données"
      ]
    },
    {
      "cell_type": "code",
      "metadata": {
        "colab": {
          "base_uri": "https://localhost:8080/"
        },
        "id": "slXXxeflPdsQ",
        "outputId": "36fa4644-ca94-41b6-bee6-01508b4af7a3"
      },
      "source": [
        "X_nv, y_nv = make_blobs(n_samples=10000, centers= 3, n_features=4, random_state=0)\n",
        "data_nv = pd.DataFrame(data = X_nv,columns=[\"var1\",\"var2\",\"var3\",\"var4\"])\n",
        "data_nv[\"y\"]=y_nv\n",
        "data_rdd_nv = s_cont.parallelize(zip(X_nv[:,0],X_nv[:,1],X_nv[:,2],X_nv[:,3],y_nv))\n",
        "df_nv = data_rdd_nv.map(lambda c: Row(var1=float(c[0]), var2=float(c[1]),var3=float(c[2]), var4=float(c[3]), y=int(c[4]))).toDF()\n",
        "df_nv.show()"
      ],
      "execution_count": 15,
      "outputs": [
        {
          "output_type": "stream",
          "text": [
            "+--------------------+-------------------+--------------------+--------------------+---+\n",
            "|                var1|               var2|                var3|                var4|  y|\n",
            "+--------------------+-------------------+--------------------+--------------------+---+\n",
            "|  0.6581214348347171|  3.330950208806035| -3.1915145399441256|    8.99670908680436|  1|\n",
            "|   2.201357680941256|  2.638305471651551|  2.8011225663376274|  1.0743820468193288|  0|\n",
            "|  2.1141737865997605| 3.8081873285890175|   2.728857401172996|    1.01339259660899|  0|\n",
            "|  0.8502711116492576| 3.9081446043865014|  2.6283803113546913| 0.15629458427565868|  0|\n",
            "|   -2.34110797337813| 4.4072873906336385| -0.5634404916797624|   7.167195851675335|  1|\n",
            "|  1.4927888618190013|  4.465759181979671|  3.9695437384544654|     1.5828726378719|  0|\n",
            "|    9.20856981890792| -2.224851678200011|   5.055311128007941|  1.8971986484032808|  2|\n",
            "|  0.5292787812679975|  6.373262719119204|  1.1158432028169358|-0.15446050710021608|  0|\n",
            "|-0.11940115042601729|   3.21089072112236|   1.724256918031132|   1.347952490585281|  0|\n",
            "|   1.330515509798881|   4.80240062746865|  1.8120560760650128|  0.7604026811248425|  0|\n",
            "|   1.206498159230839|  4.452608084930084|   5.347961843148843|  0.3952889478120635|  0|\n",
            "|  11.774288605053878| -4.470591435176094|  3.9266299474919117|  1.9191333559237291|  2|\n",
            "|-0.35602538830832575|  6.194191030530046|  1.7449566718536613|   1.002418704200167|  0|\n",
            "|  10.644347902420199|-2.0217688715072826|   6.915501750201172|  1.3192504946577297|  2|\n",
            "|  -1.211583082281884| 2.7850909166388282|  -3.178903825181668|   8.124302956375024|  1|\n",
            "|   9.330496590620855| -2.698465188097312|   5.908792490915004|0.025482817525757095|  2|\n",
            "| -0.7928879812659034| 1.9458894843407906| -0.7603787480972444|   8.678115716991327|  1|\n",
            "| -2.3683248698400163| 2.0304016718017373|-0.43971584717697176|   7.062445011625135|  1|\n",
            "| -0.2698951270579253| 4.6511054672710745|  1.4585837772802637|   8.368985480256272|  1|\n",
            "|   -2.14413808416605| 3.0627184612027367| -1.7316616879804039|   8.976900327285703|  1|\n",
            "+--------------------+-------------------+--------------------+--------------------+---+\n",
            "only showing top 20 rows\n",
            "\n"
          ],
          "name": "stdout"
        }
      ]
    },
    {
      "cell_type": "code",
      "metadata": {
        "colab": {
          "base_uri": "https://localhost:8080/"
        },
        "id": "WPOyu9YXcYiV",
        "outputId": "e4a00273-f812-48f4-c465-e1a98dd4ade6"
      },
      "source": [
        "type(df_nv)"
      ],
      "execution_count": 16,
      "outputs": [
        {
          "output_type": "execute_result",
          "data": {
            "text/plain": [
              "pyspark.sql.dataframe.DataFrame"
            ]
          },
          "metadata": {
            "tags": []
          },
          "execution_count": 16
        }
      ]
    },
    {
      "cell_type": "markdown",
      "metadata": {
        "id": "GMkfmSfEZ1ru"
      },
      "source": [
        "**Commentaire** </br>\n",
        "Dans cette partie nous avons généré deux types de datasets, le premier \" nombre de variables 2, classe binaire \" le nombre de clusters 2 et le nombre d'individu est de 1000.\n",
        "Pour le deuxieme \" nombre de variables 4, nombre de classes 3 et le nombre d'individu est de 10000.</br>\n",
        "Dans la prochaien étape nous allons utiliser le deuxième dataset Pour faire notre analyse descriptive."
      ]
    },
    {
      "cell_type": "markdown",
      "metadata": {
        "id": "3YuneIZkZeez"
      },
      "source": [
        "# **Partie 3 :Analyse descriptive**"
      ]
    },
    {
      "cell_type": "code",
      "metadata": {
        "id": "RDeOC_DoJU8L"
      },
      "source": [
        "def correlation(df,x_size=5,y_size=5):\n",
        "    correl = df.corr(method = 'pearson')\n",
        "    sns.set(rc={'figure.facecolor':'white'})\n",
        "    fig, ax = plt.subplots(figsize=(x_size,y_size)) \n",
        "    correl_final = sns.heatmap(correl, vmin = -1, vmax = 1, center = 0, cmap = \"RdBu_r\", square = True, ax=ax)\n",
        "    correl_final.set_title('Correlation', fontsize = 25, loc = 'left')\n",
        "    return round(correl,2)"
      ],
      "execution_count": 17,
      "outputs": []
    },
    {
      "cell_type": "code",
      "metadata": {
        "colab": {
          "base_uri": "https://localhost:8080/",
          "height": 419
        },
        "id": "HTLQ4kaGdiO9",
        "outputId": "7225bcb5-2e8f-4655-c349-b7c4758bfe9e"
      },
      "source": [
        "df_pd = df_nv.toPandas()\n",
        "df_pd"
      ],
      "execution_count": 18,
      "outputs": [
        {
          "output_type": "execute_result",
          "data": {
            "text/html": [
              "<div>\n",
              "<style scoped>\n",
              "    .dataframe tbody tr th:only-of-type {\n",
              "        vertical-align: middle;\n",
              "    }\n",
              "\n",
              "    .dataframe tbody tr th {\n",
              "        vertical-align: top;\n",
              "    }\n",
              "\n",
              "    .dataframe thead th {\n",
              "        text-align: right;\n",
              "    }\n",
              "</style>\n",
              "<table border=\"1\" class=\"dataframe\">\n",
              "  <thead>\n",
              "    <tr style=\"text-align: right;\">\n",
              "      <th></th>\n",
              "      <th>var1</th>\n",
              "      <th>var2</th>\n",
              "      <th>var3</th>\n",
              "      <th>var4</th>\n",
              "      <th>y</th>\n",
              "    </tr>\n",
              "  </thead>\n",
              "  <tbody>\n",
              "    <tr>\n",
              "      <th>0</th>\n",
              "      <td>0.658121</td>\n",
              "      <td>3.330950</td>\n",
              "      <td>-3.191515</td>\n",
              "      <td>8.996709</td>\n",
              "      <td>1</td>\n",
              "    </tr>\n",
              "    <tr>\n",
              "      <th>1</th>\n",
              "      <td>2.201358</td>\n",
              "      <td>2.638305</td>\n",
              "      <td>2.801123</td>\n",
              "      <td>1.074382</td>\n",
              "      <td>0</td>\n",
              "    </tr>\n",
              "    <tr>\n",
              "      <th>2</th>\n",
              "      <td>2.114174</td>\n",
              "      <td>3.808187</td>\n",
              "      <td>2.728857</td>\n",
              "      <td>1.013393</td>\n",
              "      <td>0</td>\n",
              "    </tr>\n",
              "    <tr>\n",
              "      <th>3</th>\n",
              "      <td>0.850271</td>\n",
              "      <td>3.908145</td>\n",
              "      <td>2.628380</td>\n",
              "      <td>0.156295</td>\n",
              "      <td>0</td>\n",
              "    </tr>\n",
              "    <tr>\n",
              "      <th>4</th>\n",
              "      <td>-2.341108</td>\n",
              "      <td>4.407287</td>\n",
              "      <td>-0.563440</td>\n",
              "      <td>7.167196</td>\n",
              "      <td>1</td>\n",
              "    </tr>\n",
              "    <tr>\n",
              "      <th>...</th>\n",
              "      <td>...</td>\n",
              "      <td>...</td>\n",
              "      <td>...</td>\n",
              "      <td>...</td>\n",
              "      <td>...</td>\n",
              "    </tr>\n",
              "    <tr>\n",
              "      <th>9995</th>\n",
              "      <td>1.355846</td>\n",
              "      <td>4.955717</td>\n",
              "      <td>2.407268</td>\n",
              "      <td>0.413925</td>\n",
              "      <td>0</td>\n",
              "    </tr>\n",
              "    <tr>\n",
              "      <th>9996</th>\n",
              "      <td>9.037265</td>\n",
              "      <td>-3.254946</td>\n",
              "      <td>5.823505</td>\n",
              "      <td>-1.411962</td>\n",
              "      <td>2</td>\n",
              "    </tr>\n",
              "    <tr>\n",
              "      <th>9997</th>\n",
              "      <td>-1.686352</td>\n",
              "      <td>2.035441</td>\n",
              "      <td>-0.868777</td>\n",
              "      <td>8.843992</td>\n",
              "      <td>1</td>\n",
              "    </tr>\n",
              "    <tr>\n",
              "      <th>9998</th>\n",
              "      <td>-1.945826</td>\n",
              "      <td>2.620920</td>\n",
              "      <td>-1.720677</td>\n",
              "      <td>7.543392</td>\n",
              "      <td>1</td>\n",
              "    </tr>\n",
              "    <tr>\n",
              "      <th>9999</th>\n",
              "      <td>9.989032</td>\n",
              "      <td>-3.439747</td>\n",
              "      <td>6.219302</td>\n",
              "      <td>-0.309842</td>\n",
              "      <td>2</td>\n",
              "    </tr>\n",
              "  </tbody>\n",
              "</table>\n",
              "<p>10000 rows × 5 columns</p>\n",
              "</div>"
            ],
            "text/plain": [
              "          var1      var2      var3      var4  y\n",
              "0     0.658121  3.330950 -3.191515  8.996709  1\n",
              "1     2.201358  2.638305  2.801123  1.074382  0\n",
              "2     2.114174  3.808187  2.728857  1.013393  0\n",
              "3     0.850271  3.908145  2.628380  0.156295  0\n",
              "4    -2.341108  4.407287 -0.563440  7.167196  1\n",
              "...        ...       ...       ...       ... ..\n",
              "9995  1.355846  4.955717  2.407268  0.413925  0\n",
              "9996  9.037265 -3.254946  5.823505 -1.411962  2\n",
              "9997 -1.686352  2.035441 -0.868777  8.843992  1\n",
              "9998 -1.945826  2.620920 -1.720677  7.543392  1\n",
              "9999  9.989032 -3.439747  6.219302 -0.309842  2\n",
              "\n",
              "[10000 rows x 5 columns]"
            ]
          },
          "metadata": {
            "tags": []
          },
          "execution_count": 18
        }
      ]
    },
    {
      "cell_type": "code",
      "metadata": {
        "colab": {
          "base_uri": "https://localhost:8080/"
        },
        "id": "HluM-hTYPd0G",
        "outputId": "0f3997e1-b06f-4cb2-a860-66178b3112be"
      },
      "source": [
        "#vérification du nombre de classes : \n",
        "df_nv.groupBy('y').count().show()"
      ],
      "execution_count": 19,
      "outputs": [
        {
          "output_type": "stream",
          "text": [
            "+---+-----+\n",
            "|  y|count|\n",
            "+---+-----+\n",
            "|  0| 3334|\n",
            "|  1| 3333|\n",
            "|  2| 3333|\n",
            "+---+-----+\n",
            "\n"
          ],
          "name": "stdout"
        }
      ]
    },
    {
      "cell_type": "code",
      "metadata": {
        "colab": {
          "base_uri": "https://localhost:8080/",
          "height": 295
        },
        "id": "6_xR9RRNIbqu",
        "outputId": "2855605c-a52d-442e-932e-b162d7809dad"
      },
      "source": [
        "\n",
        "print(df_pd['y'].value_counts().plot(kind = 'bar',title = 'distribution des classes '))"
      ],
      "execution_count": 20,
      "outputs": [
        {
          "output_type": "stream",
          "text": [
            "AxesSubplot(0.125,0.125;0.775x0.755)\n"
          ],
          "name": "stdout"
        },
        {
          "output_type": "display_data",
          "data": {
            "image/png": "[encoded data removed]",
            "text/plain": [
              "<Figure size 432x288 with 1 Axes>"
            ]
          },
          "metadata": {
            "tags": [],
            "needs_background": "light"
          }
        }
      ]
    },
    {
      "cell_type": "code",
      "metadata": {
        "colab": {
          "base_uri": "https://localhost:8080/"
        },
        "id": "2JYAoPlLdiKi",
        "outputId": "8e0f58f2-0384-4bee-efe4-3dfde934ed48"
      },
      "source": [
        "#Describe du dataframe \n",
        "df_nv.describe().show()"
      ],
      "execution_count": 21,
      "outputs": [
        {
          "output_type": "stream",
          "text": [
            "+-------+------------------+------------------+------------------+------------------+------------------+\n",
            "|summary|              var1|              var2|              var3|              var4|                 y|\n",
            "+-------+------------------+------------------+------------------+------------------+------------------+\n",
            "|  count|             10000|             10000|             10000|             10000|             10000|\n",
            "|   mean|2.9030428968299193|1.6262767143171584|2.2020675130790908|3.1073537965856106|            0.9999|\n",
            "| stddev|   4.7125802344158|3.0316801434818212| 3.073757112403275|3.5028826880181483|0.8165578158750719|\n",
            "|    min|  -5.9735362545812|-5.974463939371841|-4.519159445017838|-3.003147473741441|                 0|\n",
            "|    max|13.077099249044569| 7.683327455400309|  9.34372381743226|11.471561715895099|                 2|\n",
            "+-------+------------------+------------------+------------------+------------------+------------------+\n",
            "\n"
          ],
          "name": "stdout"
        }
      ]
    },
    {
      "cell_type": "code",
      "metadata": {
        "colab": {
          "base_uri": "https://localhost:8080/",
          "height": 530
        },
        "id": "Lih_V8F6Jc0E",
        "outputId": "b57ee264-110c-4aac-f8a7-524a1db57c0d"
      },
      "source": [
        "#correlation : \n",
        "corr = correlation(df_pd,9,9)"
      ],
      "execution_count": 22,
      "outputs": [
        {
          "output_type": "display_data",
          "data": {
            "image/png": "[encoded data removed]",
            "text/plain": [
              "<Figure size 648x648 with 2 Axes>"
            ]
          },
          "metadata": {
            "tags": []
          }
        }
      ]
    },
    {
      "cell_type": "code",
      "metadata": {
        "colab": {
          "base_uri": "https://localhost:8080/",
          "height": 297
        },
        "id": "EyO8ArF9IURC",
        "outputId": "f67ce48d-1198-47ac-834e-179c8351dabc"
      },
      "source": [
        "df_pd.describe()"
      ],
      "execution_count": 23,
      "outputs": [
        {
          "output_type": "execute_result",
          "data": {
            "text/html": [
              "<div>\n",
              "<style scoped>\n",
              "    .dataframe tbody tr th:only-of-type {\n",
              "        vertical-align: middle;\n",
              "    }\n",
              "\n",
              "    .dataframe tbody tr th {\n",
              "        vertical-align: top;\n",
              "    }\n",
              "\n",
              "    .dataframe thead th {\n",
              "        text-align: right;\n",
              "    }\n",
              "</style>\n",
              "<table border=\"1\" class=\"dataframe\">\n",
              "  <thead>\n",
              "    <tr style=\"text-align: right;\">\n",
              "      <th></th>\n",
              "      <th>var1</th>\n",
              "      <th>var2</th>\n",
              "      <th>var3</th>\n",
              "      <th>var4</th>\n",
              "      <th>y</th>\n",
              "    </tr>\n",
              "  </thead>\n",
              "  <tbody>\n",
              "    <tr>\n",
              "      <th>count</th>\n",
              "      <td>10000.000000</td>\n",
              "      <td>10000.000000</td>\n",
              "      <td>10000.000000</td>\n",
              "      <td>10000.000000</td>\n",
              "      <td>10000.000000</td>\n",
              "    </tr>\n",
              "    <tr>\n",
              "      <th>mean</th>\n",
              "      <td>2.903043</td>\n",
              "      <td>1.626277</td>\n",
              "      <td>2.202068</td>\n",
              "      <td>3.107354</td>\n",
              "      <td>0.999900</td>\n",
              "    </tr>\n",
              "    <tr>\n",
              "      <th>std</th>\n",
              "      <td>4.712580</td>\n",
              "      <td>3.031680</td>\n",
              "      <td>3.073757</td>\n",
              "      <td>3.502883</td>\n",
              "      <td>0.816558</td>\n",
              "    </tr>\n",
              "    <tr>\n",
              "      <th>min</th>\n",
              "      <td>-5.973536</td>\n",
              "      <td>-5.974464</td>\n",
              "      <td>-4.519159</td>\n",
              "      <td>-3.003147</td>\n",
              "      <td>0.000000</td>\n",
              "    </tr>\n",
              "    <tr>\n",
              "      <th>25%</th>\n",
              "      <td>-0.929673</td>\n",
              "      <td>-1.666489</td>\n",
              "      <td>-0.579655</td>\n",
              "      <td>0.423371</td>\n",
              "      <td>0.000000</td>\n",
              "    </tr>\n",
              "    <tr>\n",
              "      <th>50%</th>\n",
              "      <td>0.978484</td>\n",
              "      <td>2.800840</td>\n",
              "      <td>2.020987</td>\n",
              "      <td>1.433093</td>\n",
              "      <td>1.000000</td>\n",
              "    </tr>\n",
              "    <tr>\n",
              "      <th>75%</th>\n",
              "      <td>8.576993</td>\n",
              "      <td>3.998547</td>\n",
              "      <td>5.176280</td>\n",
              "      <td>7.196846</td>\n",
              "      <td>2.000000</td>\n",
              "    </tr>\n",
              "    <tr>\n",
              "      <th>max</th>\n",
              "      <td>13.077099</td>\n",
              "      <td>7.683327</td>\n",
              "      <td>9.343724</td>\n",
              "      <td>11.471562</td>\n",
              "      <td>2.000000</td>\n",
              "    </tr>\n",
              "  </tbody>\n",
              "</table>\n",
              "</div>"
            ],
            "text/plain": [
              "               var1          var2          var3          var4             y\n",
              "count  10000.000000  10000.000000  10000.000000  10000.000000  10000.000000\n",
              "mean       2.903043      1.626277      2.202068      3.107354      0.999900\n",
              "std        4.712580      3.031680      3.073757      3.502883      0.816558\n",
              "min       -5.973536     -5.974464     -4.519159     -3.003147      0.000000\n",
              "25%       -0.929673     -1.666489     -0.579655      0.423371      0.000000\n",
              "50%        0.978484      2.800840      2.020987      1.433093      1.000000\n",
              "75%        8.576993      3.998547      5.176280      7.196846      2.000000\n",
              "max       13.077099      7.683327      9.343724     11.471562      2.000000"
            ]
          },
          "metadata": {
            "tags": []
          },
          "execution_count": 23
        }
      ]
    },
    {
      "cell_type": "code",
      "metadata": {
        "colab": {
          "base_uri": "https://localhost:8080/",
          "height": 173
        },
        "id": "n_lhSm_tQPwP",
        "outputId": "e574aa1b-0237-45d7-8bd6-ec83e9cab9a5"
      },
      "source": [
        "# la variances des classes : \n",
        "# pour faciliter cette tache, on transforme notre ROW element en Pandas dataframe et on applique l'aggregation suivante\n",
        "\n",
        "df_nv.toPandas().groupby(\"y\").agg('var')"
      ],
      "execution_count": 24,
      "outputs": [
        {
          "output_type": "execute_result",
          "data": {
            "text/html": [
              "<div>\n",
              "<style scoped>\n",
              "    .dataframe tbody tr th:only-of-type {\n",
              "        vertical-align: middle;\n",
              "    }\n",
              "\n",
              "    .dataframe tbody tr th {\n",
              "        vertical-align: top;\n",
              "    }\n",
              "\n",
              "    .dataframe thead th {\n",
              "        text-align: right;\n",
              "    }\n",
              "</style>\n",
              "<table border=\"1\" class=\"dataframe\">\n",
              "  <thead>\n",
              "    <tr style=\"text-align: right;\">\n",
              "      <th></th>\n",
              "      <th>var1</th>\n",
              "      <th>var2</th>\n",
              "      <th>var3</th>\n",
              "      <th>var4</th>\n",
              "    </tr>\n",
              "    <tr>\n",
              "      <th>y</th>\n",
              "      <th></th>\n",
              "      <th></th>\n",
              "      <th></th>\n",
              "      <th></th>\n",
              "    </tr>\n",
              "  </thead>\n",
              "  <tbody>\n",
              "    <tr>\n",
              "      <th>0</th>\n",
              "      <td>0.989301</td>\n",
              "      <td>0.972445</td>\n",
              "      <td>0.993508</td>\n",
              "      <td>0.980659</td>\n",
              "    </tr>\n",
              "    <tr>\n",
              "      <th>1</th>\n",
              "      <td>0.967669</td>\n",
              "      <td>0.973861</td>\n",
              "      <td>1.012933</td>\n",
              "      <td>0.957460</td>\n",
              "    </tr>\n",
              "    <tr>\n",
              "      <th>2</th>\n",
              "      <td>1.006423</td>\n",
              "      <td>1.008627</td>\n",
              "      <td>1.026715</td>\n",
              "      <td>1.030712</td>\n",
              "    </tr>\n",
              "  </tbody>\n",
              "</table>\n",
              "</div>"
            ],
            "text/plain": [
              "       var1      var2      var3      var4\n",
              "y                                        \n",
              "0  0.989301  0.972445  0.993508  0.980659\n",
              "1  0.967669  0.973861  1.012933  0.957460\n",
              "2  1.006423  1.008627  1.026715  1.030712"
            ]
          },
          "metadata": {
            "tags": []
          },
          "execution_count": 24
        }
      ]
    },
    {
      "cell_type": "markdown",
      "metadata": {
        "id": "WpDgGeuAm_X2"
      },
      "source": [
        "# **Clustering avec des implémentations disponibles**"
      ]
    },
    {
      "cell_type": "code",
      "metadata": {
        "id": "IpAbBJ2Yhj5w"
      },
      "source": [
        "from  sklearn.metrics import normalized_mutual_info_score as NMI_score\n",
        "def NMI(y, labels):\n",
        "  print(\"NMI SCORE est :\",round(NMI_score(y, labels), 2) * 100, \"%\")"
      ],
      "execution_count": 25,
      "outputs": []
    },
    {
      "cell_type": "markdown",
      "metadata": {
        "id": "G9L91IHgvjzm"
      },
      "source": [
        "### with scikit-learn"
      ]
    },
    {
      "cell_type": "code",
      "metadata": {
        "id": "fvX4KCzknEL2",
        "colab": {
          "base_uri": "https://localhost:8080/",
          "height": 419
        },
        "outputId": "153422cd-e189-4398-8dbe-8bbc0ad1b452"
      },
      "source": [
        "#Implémentation du k-means en utilisant scikit-learn : \n",
        "import time\n",
        "from sklearn.cluster import KMeans\n",
        "y_1 = df_pd.iloc[:,4]\n",
        "df_pd = df_pd.drop(columns = \"y\")\n",
        "df_pd"
      ],
      "execution_count": 26,
      "outputs": [
        {
          "output_type": "execute_result",
          "data": {
            "text/html": [
              "<div>\n",
              "<style scoped>\n",
              "    .dataframe tbody tr th:only-of-type {\n",
              "        vertical-align: middle;\n",
              "    }\n",
              "\n",
              "    .dataframe tbody tr th {\n",
              "        vertical-align: top;\n",
              "    }\n",
              "\n",
              "    .dataframe thead th {\n",
              "        text-align: right;\n",
              "    }\n",
              "</style>\n",
              "<table border=\"1\" class=\"dataframe\">\n",
              "  <thead>\n",
              "    <tr style=\"text-align: right;\">\n",
              "      <th></th>\n",
              "      <th>var1</th>\n",
              "      <th>var2</th>\n",
              "      <th>var3</th>\n",
              "      <th>var4</th>\n",
              "    </tr>\n",
              "  </thead>\n",
              "  <tbody>\n",
              "    <tr>\n",
              "      <th>0</th>\n",
              "      <td>0.658121</td>\n",
              "      <td>3.330950</td>\n",
              "      <td>-3.191515</td>\n",
              "      <td>8.996709</td>\n",
              "    </tr>\n",
              "    <tr>\n",
              "      <th>1</th>\n",
              "      <td>2.201358</td>\n",
              "      <td>2.638305</td>\n",
              "      <td>2.801123</td>\n",
              "      <td>1.074382</td>\n",
              "    </tr>\n",
              "    <tr>\n",
              "      <th>2</th>\n",
              "      <td>2.114174</td>\n",
              "      <td>3.808187</td>\n",
              "      <td>2.728857</td>\n",
              "      <td>1.013393</td>\n",
              "    </tr>\n",
              "    <tr>\n",
              "      <th>3</th>\n",
              "      <td>0.850271</td>\n",
              "      <td>3.908145</td>\n",
              "      <td>2.628380</td>\n",
              "      <td>0.156295</td>\n",
              "    </tr>\n",
              "    <tr>\n",
              "      <th>4</th>\n",
              "      <td>-2.341108</td>\n",
              "      <td>4.407287</td>\n",
              "      <td>-0.563440</td>\n",
              "      <td>7.167196</td>\n",
              "    </tr>\n",
              "    <tr>\n",
              "      <th>...</th>\n",
              "      <td>...</td>\n",
              "      <td>...</td>\n",
              "      <td>...</td>\n",
              "      <td>...</td>\n",
              "    </tr>\n",
              "    <tr>\n",
              "      <th>9995</th>\n",
              "      <td>1.355846</td>\n",
              "      <td>4.955717</td>\n",
              "      <td>2.407268</td>\n",
              "      <td>0.413925</td>\n",
              "    </tr>\n",
              "    <tr>\n",
              "      <th>9996</th>\n",
              "      <td>9.037265</td>\n",
              "      <td>-3.254946</td>\n",
              "      <td>5.823505</td>\n",
              "      <td>-1.411962</td>\n",
              "    </tr>\n",
              "    <tr>\n",
              "      <th>9997</th>\n",
              "      <td>-1.686352</td>\n",
              "      <td>2.035441</td>\n",
              "      <td>-0.868777</td>\n",
              "      <td>8.843992</td>\n",
              "    </tr>\n",
              "    <tr>\n",
              "      <th>9998</th>\n",
              "      <td>-1.945826</td>\n",
              "      <td>2.620920</td>\n",
              "      <td>-1.720677</td>\n",
              "      <td>7.543392</td>\n",
              "    </tr>\n",
              "    <tr>\n",
              "      <th>9999</th>\n",
              "      <td>9.989032</td>\n",
              "      <td>-3.439747</td>\n",
              "      <td>6.219302</td>\n",
              "      <td>-0.309842</td>\n",
              "    </tr>\n",
              "  </tbody>\n",
              "</table>\n",
              "<p>10000 rows × 4 columns</p>\n",
              "</div>"
            ],
            "text/plain": [
              "          var1      var2      var3      var4\n",
              "0     0.658121  3.330950 -3.191515  8.996709\n",
              "1     2.201358  2.638305  2.801123  1.074382\n",
              "2     2.114174  3.808187  2.728857  1.013393\n",
              "3     0.850271  3.908145  2.628380  0.156295\n",
              "4    -2.341108  4.407287 -0.563440  7.167196\n",
              "...        ...       ...       ...       ...\n",
              "9995  1.355846  4.955717  2.407268  0.413925\n",
              "9996  9.037265 -3.254946  5.823505 -1.411962\n",
              "9997 -1.686352  2.035441 -0.868777  8.843992\n",
              "9998 -1.945826  2.620920 -1.720677  7.543392\n",
              "9999  9.989032 -3.439747  6.219302 -0.309842\n",
              "\n",
              "[10000 rows x 4 columns]"
            ]
          },
          "metadata": {
            "tags": []
          },
          "execution_count": 26
        }
      ]
    },
    {
      "cell_type": "code",
      "metadata": {
        "colab": {
          "base_uri": "https://localhost:8080/"
        },
        "id": "9AfEwgKmnEPt",
        "outputId": "057a7dac-a58e-4092-da67-b3352e571e89"
      },
      "source": [
        "%%time\n",
        "k_means1 = KMeans(n_clusters=3, random_state=42).fit(df_pd)\n"
      ],
      "execution_count": 27,
      "outputs": [
        {
          "output_type": "stream",
          "text": [
            "CPU times: user 84.4 ms, sys: 59.8 ms, total: 144 ms\n",
            "Wall time: 144 ms\n"
          ],
          "name": "stdout"
        }
      ]
    },
    {
      "cell_type": "markdown",
      "metadata": {
        "id": "xfRkrrJfvo8U"
      },
      "source": [
        "### with spark \" dataframe\""
      ]
    },
    {
      "cell_type": "code",
      "metadata": {
        "id": "N1m5Ja4pt_Jn"
      },
      "source": [
        "from pyspark.ml.clustering import KMeans as KMeans_spark\n",
        "from pyspark.ml.feature import VectorAssembler\n",
        " \n",
        "#kmeans with pyspark \" dataframe\"\n",
        "vect = VectorAssembler(inputCols=[\"var1\",\"var2\",\"var3\",\"var4\"],outputCol=\"out_put\")\n",
        "data_k = vect.transform(df_nv.drop(\"y\"))"
      ],
      "execution_count": 28,
      "outputs": []
    },
    {
      "cell_type": "code",
      "metadata": {
        "colab": {
          "base_uri": "https://localhost:8080/"
        },
        "id": "ejVOBJpp8_np",
        "outputId": "552f9741-31f2-42a0-c30d-88e4148f8d03"
      },
      "source": [
        "type(data_k)"
      ],
      "execution_count": 29,
      "outputs": [
        {
          "output_type": "execute_result",
          "data": {
            "text/plain": [
              "pyspark.sql.dataframe.DataFrame"
            ]
          },
          "metadata": {
            "tags": []
          },
          "execution_count": 29
        }
      ]
    },
    {
      "cell_type": "code",
      "metadata": {
        "colab": {
          "base_uri": "https://localhost:8080/"
        },
        "id": "qdgkRwWH8adM",
        "outputId": "944391ec-62d5-45b9-be1a-eb08f2ffe787"
      },
      "source": [
        "%%time\n",
        "kmeans_spark = KMeans_spark(featuresCol=\"out_put\",k=3,maxIter=100)\n",
        "model = kmeans_spark.fit(data_k)"
      ],
      "execution_count": 30,
      "outputs": [
        {
          "output_type": "stream",
          "text": [
            "CPU times: user 76.8 ms, sys: 9.97 ms, total: 86.8 ms\n",
            "Wall time: 6.01 s\n"
          ],
          "name": "stdout"
        }
      ]
    },
    {
      "cell_type": "markdown",
      "metadata": {
        "id": "RV6TdOFSvuE2"
      },
      "source": [
        "### with spark RDD"
      ]
    },
    {
      "cell_type": "code",
      "metadata": {
        "id": "wAfmfAuqoiOB"
      },
      "source": [
        "# kmeans with pyspark \"RDD\"\n",
        "#API BASE SUR RDD\n",
        "from pyspark.mllib.clustering import KMeans"
      ],
      "execution_count": 31,
      "outputs": []
    },
    {
      "cell_type": "code",
      "metadata": {
        "colab": {
          "base_uri": "https://localhost:8080/"
        },
        "id": "ddpHJqBz-U5D",
        "outputId": "1b5cd65f-085f-4644-f338-b9fe9ee73e7d"
      },
      "source": [
        "%%time\n",
        "data_kr = df_nv.select('var1', 'var2','var3', 'var4').rdd.map(lambda t: (t[0], t[1],t[2], t[3]))\n",
        "clusters = KMeans.train(data_kr, 3, maxIterations=100, initializationMode=\"random\")"
      ],
      "execution_count": 32,
      "outputs": [
        {
          "output_type": "stream",
          "text": [
            "CPU times: user 27.7 ms, sys: 886 µs, total: 28.6 ms\n",
            "Wall time: 1.94 s\n"
          ],
          "name": "stdout"
        }
      ]
    },
    {
      "cell_type": "code",
      "metadata": {
        "colab": {
          "base_uri": "https://localhost:8080/"
        },
        "id": "NmZk_Tg1Gvfr",
        "outputId": "f5b5c7d8-e722-42ed-81a5-66044aecbcf6"
      },
      "source": [
        "\n",
        "NMI(y_1, k_means1.labels_)"
      ],
      "execution_count": 33,
      "outputs": [
        {
          "output_type": "stream",
          "text": [
            "NMI SCORE est : 100.0 %\n"
          ],
          "name": "stdout"
        }
      ]
    },
    {
      "cell_type": "code",
      "metadata": {
        "id": "dQkz8xtQCw16"
      },
      "source": [
        "#NMI  avec kmeans sckit-learn\n",
        "prediction = model.transform(data_k).select('prediction').collect()\n",
        "labels = [p.prediction for p in prediction ]"
      ],
      "execution_count": 34,
      "outputs": []
    },
    {
      "cell_type": "code",
      "metadata": {
        "colab": {
          "base_uri": "https://localhost:8080/"
        },
        "id": "XJgLLnO9C7fd",
        "outputId": "0d37b8b8-74e4-4d37-db6e-83257fad7ce6"
      },
      "source": [
        "NMI(y_1,labels)"
      ],
      "execution_count": 35,
      "outputs": [
        {
          "output_type": "stream",
          "text": [
            "NMI SCORE est : 100.0 %\n"
          ],
          "name": "stdout"
        }
      ]
    },
    {
      "cell_type": "markdown",
      "metadata": {
        "id": "-TffHpVeHdqS"
      },
      "source": [
        "# **Implémentation du K-Means**"
      ]
    },
    {
      "cell_type": "markdown",
      "metadata": {
        "id": "b-0baaUKL6E-"
      },
      "source": [
        "### Cas Unidimensionnel "
      ]
    },
    {
      "cell_type": "code",
      "metadata": {
        "id": "6GJSFfMIzfjO"
      },
      "source": [
        "def compute_centroids(points,cluster_ids):\n",
        "  # ( Id_Cluster, Sum of element in that cluster ) \n",
        "  sum_by_cluster = cluster_ids.zip(points).groupByKey().mapValues(sum)\n",
        "\n",
        "  # (Id_Cluster, Number of occurence)\n",
        "  count_by_cluster_id = cluster_ids.zip(points).groupByKey().mapValues(len)\n",
        "\n",
        "  # ( Id_Cluster, Mean):\n",
        "  return count_by_cluster_id.join(sum_by_cluster).map(lambda x : (x[0],x[1][1]/x[1][0])).sortByKey()"
      ],
      "execution_count": 36,
      "outputs": []
    },
    {
      "cell_type": "code",
      "metadata": {
        "id": "62SWwai0MGR4"
      },
      "source": [
        "import numpy as np\n",
        "def squared_distances(point, centroids):\n",
        "  return np.sqrt(np.power(centroids-point,2))"
      ],
      "execution_count": 37,
      "outputs": []
    },
    {
      "cell_type": "code",
      "metadata": {
        "id": "zH_sZXlFMGVi"
      },
      "source": [
        "def assign_clusters(points, centroids):\n",
        "  list_centr = np.array(centroids.map(lambda x: x[1]).collect())\n",
        "  return points.map(lambda x : np.argmin(squared_distances(x,list_centr)))"
      ],
      "execution_count": 38,
      "outputs": []
    },
    {
      "cell_type": "code",
      "metadata": {
        "id": "0m68cab3MGZF"
      },
      "source": [
        "def Kmeans_Uni(points,k):\n",
        "  centroids = np.array(points.collect()[0:k])\n",
        "  labels = points.map(lambda x : np.argmin(squared_distances(x,centroids))).collect()\n",
        "  new_list_id_clusters = []\n",
        "  #1st itiration:  \n",
        "  centroids = compute_centroids(points,s_cont.parallelize(labels))\n",
        "  new_cluster_ids = assign_clusters(points, centroids).collect()\n",
        "  #The stop condition:\n",
        "  while(not np.array_equal(new_cluster_ids,labels) ):\n",
        "    \n",
        "    labels = new_cluster_ids\n",
        "    centroids = compute_centroids(points,s_cont.parallelize(labels))\n",
        "    new_cluster_ids = assign_clusters(points, centroids).collect()\n",
        "  \n",
        "  return labels,centroids"
      ],
      "execution_count": 39,
      "outputs": []
    },
    {
      "cell_type": "markdown",
      "metadata": {
        "id": "7sjC9wi-MU9o"
      },
      "source": [
        "### Le cas multidimensionnel"
      ]
    },
    {
      "cell_type": "code",
      "metadata": {
        "id": "SV1WjtWfMGfn"
      },
      "source": [
        "def calculate_sum(X):\n",
        "  sum = np.zeros(len(X[0]))\n",
        "  for elm in X:\n",
        "    sum = np.add(sum,elm)\n",
        "  return sum.astype(int)\n",
        "\n",
        "\n",
        "\n",
        "def compute_centroids_multidimensionnel(points,cluster_ids):\n",
        "  # ( Id_Cluster, Sum of element in that cluster ) \n",
        "  sum_by_cluster = cluster_ids.zip(points).groupByKey().map(lambda x : (x[0], list(x[1]))).mapValues(calculate_sum)\n",
        "\n",
        "  # (Id_Cluster, Number of occurence)\n",
        "  count_by_cluster_id = cluster_ids.zip(points).groupByKey().mapValues(len)\n",
        "\n",
        "  # ( Id_Cluster, Mean):\n",
        "  return count_by_cluster_id.join(sum_by_cluster).map(lambda x : (x[0],x[1][1]/x[1][0])).sortByKey()\n",
        "\n",
        "\n",
        "\n",
        "\n",
        "def assign_clusters_multidimensionnel(points, centroids):\n",
        "  list_centr = np.array(centroids.map(lambda x: x[1]).collect())\n",
        "  return points.map(lambda x : np.argmin(squared_distances_multiple(np.array(x),list_centr)))\n",
        "\n",
        "def squared_distances_multiple(point, centroids):\n",
        "    return np.sqrt(np.sum(np.power(centroids-point,2),axis=1))\n",
        "  \n",
        "\n",
        "\n",
        "  "
      ],
      "execution_count": 40,
      "outputs": []
    },
    {
      "cell_type": "code",
      "metadata": {
        "id": "G5MSFWU8Mbmy"
      },
      "source": [
        "def Kmeans_Mult(points,k):\n",
        "  deb = np.random.randint(len(points.collect())-k)\n",
        "  centroids = np.array(points.collect()[deb:deb+k])\n",
        "  labels = points.map(lambda x : np.argmin(squared_distances_multiple(x,centroids))).collect()\n",
        "  new_list_id_clusters = []\n",
        "  \n",
        "  #1st itiration:  \n",
        "  centroids = compute_centroids_multidimensionnel(points,s_cont.parallelize(labels))\n",
        "  new_cluster_ids = assign_clusters_multidimensionnel(points, centroids).collect()\n",
        "  #The stop condition:\n",
        "  while(not np.array_equal(new_cluster_ids,labels) ):\n",
        "    \n",
        "    labels = new_cluster_ids\n",
        "    centroids = compute_centroids_multidimensionnel(points,s_cont.parallelize(labels))\n",
        "    new_cluster_ids = assign_clusters_multidimensionnel(points, centroids).collect()\n",
        "  \n",
        "  return labels,centroids"
      ],
      "execution_count": 41,
      "outputs": []
    },
    {
      "cell_type": "markdown",
      "metadata": {
        "id": "tRdeC9RvgI5r"
      },
      "source": [
        "### Tester le cas unidimensionnel"
      ]
    },
    {
      "cell_type": "code",
      "metadata": {
        "id": "G93gVncihdvy"
      },
      "source": [
        ""
      ],
      "execution_count": 41,
      "outputs": []
    },
    {
      "cell_type": "code",
      "metadata": {
        "id": "McKvdufVNHPq"
      },
      "source": [
        "# Tester sur un exemple aléatoire\n",
        "\n",
        "points_1 = s_cont.parallelize([1,-20,20,0,-1,-15,30,-12])\n",
        "labels_1, centroids_1 =Kmeans_Uni(points_1,3)"
      ],
      "execution_count": 42,
      "outputs": []
    },
    {
      "cell_type": "code",
      "metadata": {
        "colab": {
          "base_uri": "https://localhost:8080/"
        },
        "id": "YyuWAHM_NHTb",
        "outputId": "48257d70-4b90-49ee-f53c-322a59d6dd1d"
      },
      "source": [
        "labels_1"
      ],
      "execution_count": 43,
      "outputs": [
        {
          "output_type": "execute_result",
          "data": {
            "text/plain": [
              "[0, 1, 2, 0, 0, 1, 2, 1]"
            ]
          },
          "metadata": {
            "tags": []
          },
          "execution_count": 43
        }
      ]
    },
    {
      "cell_type": "code",
      "metadata": {
        "colab": {
          "base_uri": "https://localhost:8080/"
        },
        "id": "RSemsVuKNHX8",
        "outputId": "ff420af6-a67c-4bbf-8993-4f6f49f2e74e"
      },
      "source": [
        "centroids_1.collect()"
      ],
      "execution_count": 44,
      "outputs": [
        {
          "output_type": "execute_result",
          "data": {
            "text/plain": [
              "[(0, 0.0), (1, -15.666666666666666), (2, 25.0)]"
            ]
          },
          "metadata": {
            "tags": []
          },
          "execution_count": 44
        }
      ]
    },
    {
      "cell_type": "code",
      "metadata": {
        "colab": {
          "base_uri": "https://localhost:8080/"
        },
        "id": "7YvHL5kBhAAD",
        "outputId": "fd33625b-f0d6-40f1-9743-c079cced4770"
      },
      "source": [
        "# Tester sur des nouvelles données générés avec make blobs ( on aura 10000 observations, 1 variable, et 5 clusters)\n",
        "\n",
        "X2, y2 = make_blobs(n_samples=10000, centers=5, n_features=1,random_state=0)\n",
        "\n",
        "points_2 = s_cont.parallelize(X2)\n",
        "\n",
        "labels_2, centroids =Kmeans_Uni(points_2,5)\n",
        "NMI(y2, labels_2)"
      ],
      "execution_count": 45,
      "outputs": [
        {
          "output_type": "stream",
          "text": [
            "NMI SCORE est : 42.0 %\n"
          ],
          "name": "stdout"
        }
      ]
    },
    {
      "cell_type": "code",
      "metadata": {
        "colab": {
          "base_uri": "https://localhost:8080/"
        },
        "id": "YbSYrb1ihADq",
        "outputId": "75d72e4f-f342-431d-afcc-36f18807133e"
      },
      "source": [
        "# Tester sur des nouvelles données générés avec make blobs ( on aura 10000 observations, 1 variable, et 3 clusters)\n",
        "\n",
        "X3, y3 = make_blobs(n_samples=10000, centers=3, n_features=1,random_state=0)\n",
        "\n",
        "points_3 = s_cont.parallelize(X3)\n",
        "\n",
        "labels_3, centroids =Kmeans_Uni(points_3,3)\n",
        "\n",
        "NMI(y3, labels_3)"
      ],
      "execution_count": 46,
      "outputs": [
        {
          "output_type": "stream",
          "text": [
            "NMI SCORE est : 39.0 %\n"
          ],
          "name": "stdout"
        }
      ]
    },
    {
      "cell_type": "code",
      "metadata": {
        "colab": {
          "base_uri": "https://localhost:8080/"
        },
        "id": "ot0zLkt-hAHh",
        "outputId": "63c73cf4-709b-4211-e35b-cf9b8586a4f3"
      },
      "source": [
        "# Tester sur des nouvelles données générés avec make blobs ( on aura 500 observations, 1 variable, et 3 clusters)\n",
        "\n",
        "X4, y4 = make_blobs(n_samples=500, centers=3, n_features=1,random_state=0)\n",
        "\n",
        "points_4 = s_cont.parallelize(X4)\n",
        "\n",
        "labels_4, centroids =Kmeans_Uni(points_4,3)\n",
        "\n",
        "NMI(y4, labels_4)"
      ],
      "execution_count": 47,
      "outputs": [
        {
          "output_type": "stream",
          "text": [
            "NMI SCORE est : 38.0 %\n"
          ],
          "name": "stdout"
        }
      ]
    },
    {
      "cell_type": "markdown",
      "metadata": {
        "id": "2yQm0mNmkxxV"
      },
      "source": [
        "### Test le cas multidimensionnel"
      ]
    },
    {
      "cell_type": "code",
      "metadata": {
        "colab": {
          "base_uri": "https://localhost:8080/"
        },
        "id": "MA_ttO-GpKwf",
        "outputId": "20d1c718-7527-4c6e-cbd8-78226ad346c5"
      },
      "source": [
        "# dans ce cas nous avons utilisé les données généré pour l'étude du k_means \" dans la précédente partie\".\n",
        "points_13 = s_cont.parallelize(X_nv)\n",
        "labels_13, centroids =Kmeans_Mult(points_13,3)\n",
        "\n",
        "NMI(y_nv, labels_13)"
      ],
      "execution_count": 48,
      "outputs": [
        {
          "output_type": "stream",
          "text": [
            "NMI SCORE est : 100.0 %\n"
          ],
          "name": "stdout"
        }
      ]
    }
  ]
}